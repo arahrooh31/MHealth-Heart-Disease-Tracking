{
 "cells": [
  {
   "cell_type": "code",
   "execution_count": null,
   "metadata": {},
   "outputs": [],
   "source": [
    "#Loading Dependencies \n",
    "import numpy as np\n",
    "import pandas as pd\n",
    "from sklearn.model_selection import train_test_split\n",
    "from sklearn import svm\n",
    "from sklearn import metrics\n",
    "import seaborn as sns\n",
    "import matplotlib.pyplot as plt\n",
    "from sklearn.model_selection import GridSearchCV\n",
    "from sklearn.svm import SVC\n",
    "from sklearn.metrics import classification_report\n",
    "\n",
    "import warnings\n",
    "warnings.filterwarnings('ignore', category = FutureWarning)\n",
    "warnings.filterwarnings('ignore', category = DeprecationWarning)\n"
   ]
  },
  {
   "cell_type": "code",
   "execution_count": null,
   "metadata": {},
   "outputs": [],
   "source": [
    "#Importing DATA\n",
    "data = pd.read_csv(\"PROsMLmodels1/Data_40Grouping/data_exercise_40.csv\")\n",
    "data.head()"
   ]
  },
  {
   "cell_type": "code",
   "execution_count": null,
   "metadata": {},
   "outputs": [],
   "source": [
    "#PreProcessing\n",
    "data1 = pd.read_csv(\"PROsMLmodels1/Data_40Grouping/data_exercise_40.csv\", usecols = range(1,120), header = 0)\n",
    "data1.fillna(data1.mean(), inplace = True)\n",
    "data1.head()"
   ]
  },
  {
   "cell_type": "code",
   "execution_count": null,
   "metadata": {},
   "outputs": [],
   "source": [
    "data1.describe()"
   ]
  },
  {
   "cell_type": "code",
   "execution_count": null,
   "metadata": {},
   "outputs": [],
   "source": [
    "s1 = pd.read_csv('PROsMLmodels1/Data_40Grouping/data_exercise_40.csv', usecols = range(120,121) , header = 0)\n",
    "s1.head()"
   ]
  },
  {
   "cell_type": "code",
   "execution_count": null,
   "metadata": {},
   "outputs": [],
   "source": [
    "#Splitting Data into Training and Testing Sets\n",
    "X_train, X_test, y_train, y_test = train_test_split(data1, s1, test_size = .3, random_state = 109)\n",
    "print(\"X_train size ==>\", X_train.shape)\n",
    "print(\"y_train size ==>\", y_train.shape)\n",
    "print(\"X_test size ==>\", X_test.shape)\n",
    "print(\"y_test size ==>\", y_test.shape)"
   ]
  },
  {
   "cell_type": "code",
   "execution_count": null,
   "metadata": {},
   "outputs": [],
   "source": [
    "#Create SVM Classifier\n",
    "clf = svm.SVC(kernel = 'linear')\n",
    "#Train the model using the training sets\n",
    "clf.fit(X_train, y_train.values.ravel())\n",
    "#Predict the response for the test dataset\n",
    "y_pred = clf.predict(X_test)\n",
    "print(y_pred)\n",
    "\n",
    "#Evaluate the model\n",
    "print(classification_report(y_test, y_pred))\n",
    "\n",
    "#Model Accuracy\n",
    "print('Accuracy:', metrics.accuracy_score(y_test, y_pred))\n",
    "#Model Precision\n",
    "print('Precision:', metrics.precision_score(y_test, y_pred))\n",
    "#Model Recall\n",
    "print('Recall:', metrics.recall_score(y_test, y_pred))"
   ]
  },
  {
   "cell_type": "code",
   "execution_count": null,
   "metadata": {},
   "outputs": [],
   "source": [
    "#Tuning Hyperparamters\n",
    "X_train, X_test, y_train, y_test = train_test_split(data1, s1, test_size = .3, random_state = 32)\n",
    "\n",
    "kernel = ['linear', 'rbf', 'poly', 'sigmoid']\n",
    "for i in kernel:\n",
    "    model = SVC(kernel = i, C = 1.0)\n",
    "    model.fit(X_train, y_train.values.ravel())\n",
    "    print('For kernel:', i)\n",
    "    print('accuracy is:', model.score(X_test, y_test))\n",
    "\n",
    "model = SVC()\n",
    "model.fit(X_train, y_train)\n",
    "print('Accuracy on testing data is:', model.score(X_test, y_test))\n",
    "print('Accuracy on training data is:', model.score(X_train, y_train))\n",
    "\n",
    "for i in rnge(1,10):\n",
    "    model = SVC(kernel = 'poly', degree = i, C=100)\n",
    "    model.fit(X_train, y_train)\n",
    "    print('Accuracy on testing data is: \\t', model.score(X_test, y_test))\n",
    "    print('Accuracy on training data is: \\t', model.score(X_train, y_train))\n",
    "    \n",
    "param_grid = {'C':[0.1,1,100,1000], 'kernel':['rbf', 'poly', 'sigmoid', 'linear'], 'degree':[1,2,3,4,5,6]}\n",
    "grid = GridDearchCV(SVC(), param_grid)\n",
    "grid.fit(X_train, y_train)\n",
    "\n",
    "print(grid.best_params_)\n",
    "print(grid.score(X_test, y_test))\n"
   ]
  },
  {
   "cell_type": "code",
   "execution_count": null,
   "metadata": {},
   "outputs": [],
   "source": []
  }
 ],
 "metadata": {
  "kernelspec": {
   "display_name": "Python 3",
   "language": "python",
   "name": "python3"
  },
  "language_info": {
   "codemirror_mode": {
    "name": "ipython",
    "version": 3
   },
   "file_extension": ".py",
   "mimetype": "text/x-python",
   "name": "python",
   "nbconvert_exporter": "python",
   "pygments_lexer": "ipython3",
   "version": "3.8.3"
  }
 },
 "nbformat": 4,
 "nbformat_minor": 4
}

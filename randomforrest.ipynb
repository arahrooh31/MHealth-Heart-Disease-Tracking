{
 "cells": [
  {
   "cell_type": "code",
   "execution_count": 2,
   "metadata": {},
   "outputs": [],
   "source": [
    "import pandas as pd\n",
    "import matplotlib.pyplot as plt\n",
    "from sklearn.metrics import accuracy_score, f1_score, confusion_matrix\n",
    "from sklearn.model_selection import GridSearchCV\n",
    "from sklearn.ensemble import RandomForestClassifier\n",
    "from sklearn.model_selection import train_test_split\n",
    "import seaborn as sns\n",
    "import xgboost as xgb\n",
    "from xgboost.sklearn import XGBClassifier\n",
    "import numpy as np"
   ]
  },
  {
   "cell_type": "code",
   "execution_count": 3,
   "metadata": {
    "scrolled": true
   },
   "outputs": [
    {
     "name": "stderr",
     "output_type": "stream",
     "text": [
      "[Parallel(n_jobs=-1)]: Using backend ThreadingBackend with 4 concurrent workers.\n",
      "[Parallel(n_jobs=-1)]: Done  42 tasks      | elapsed:    0.0s\n",
      "[Parallel(n_jobs=-1)]: Done 192 tasks      | elapsed:    0.3s\n",
      "[Parallel(n_jobs=-1)]: Done 442 tasks      | elapsed:    0.9s\n",
      "[Parallel(n_jobs=-1)]: Done 792 tasks      | elapsed:    1.8s\n",
      "[Parallel(n_jobs=-1)]: Done 1242 tasks      | elapsed:    2.8s\n",
      "[Parallel(n_jobs=-1)]: Done 1792 tasks      | elapsed:    3.9s\n",
      "[Parallel(n_jobs=-1)]: Done 2442 tasks      | elapsed:    5.2s\n",
      "[Parallel(n_jobs=-1)]: Done 3192 tasks      | elapsed:    6.7s\n",
      "[Parallel(n_jobs=-1)]: Done 4000 out of 4000 | elapsed:    8.7s finished\n",
      "[Parallel(n_jobs=4)]: Using backend ThreadingBackend with 4 concurrent workers.\n",
      "[Parallel(n_jobs=4)]: Done  42 tasks      | elapsed:    0.0s\n",
      "[Parallel(n_jobs=4)]: Done 192 tasks      | elapsed:    0.0s\n",
      "[Parallel(n_jobs=4)]: Done 442 tasks      | elapsed:    0.1s\n",
      "[Parallel(n_jobs=4)]: Done 792 tasks      | elapsed:    0.2s\n",
      "[Parallel(n_jobs=4)]: Done 1242 tasks      | elapsed:    0.4s\n",
      "[Parallel(n_jobs=4)]: Done 1792 tasks      | elapsed:    0.7s\n",
      "[Parallel(n_jobs=4)]: Done 2442 tasks      | elapsed:    0.9s\n",
      "[Parallel(n_jobs=4)]: Done 3192 tasks      | elapsed:    1.2s\n",
      "[Parallel(n_jobs=4)]: Done 4000 out of 4000 | elapsed:    1.5s finished\n"
     ]
    },
    {
     "data": {
      "text/plain": [
       "0.21721311475409835"
      ]
     },
     "execution_count": 3,
     "metadata": {},
     "output_type": "execute_result"
    }
   ],
   "source": [
    "#Random Forrest\n",
    "\n",
    "x = pd.read_csv(\"data_exercise_40.csv\", usecols = range(1,120), header = 0)\n",
    "x.fillna(x.mean(), inplace = True)\n",
    "y = pd.read_csv(\"data_exercise_40.csv\", usecols = range(120,121) , header = 0)\n",
    "\n",
    "X_train, X_test, y_train, y_test = train_test_split(x, y, test_size=0.3)\n",
    "\n",
    "clf = RandomForestClassifier(n_estimators=4000,criterion='entropy',max_features=1,max_depth=None,min_samples_split=150,n_jobs=-1, verbose=1)\n",
    "clf.fit(X_train,y_train.values.ravel())\n",
    "predicted_labels = clf.predict(X_test)\n",
    "accuracy_score(y_test, predicted_labels)"
   ]
  },
  {
   "cell_type": "code",
   "execution_count": 4,
   "metadata": {},
   "outputs": [
    {
     "name": "stdout",
     "output_type": "stream",
     "text": [
      "Fitting 5 folds for each of 40 candidates, totalling 200 fits\n"
     ]
    },
    {
     "name": "stderr",
     "output_type": "stream",
     "text": [
      "[Parallel(n_jobs=-1)]: Using backend LokyBackend with 4 concurrent workers.\n",
      "[Parallel(n_jobs=-1)]: Done   5 tasks      | elapsed:    4.8s\n",
      "[Parallel(n_jobs=-1)]: Done  10 tasks      | elapsed:    6.6s\n",
      "[Parallel(n_jobs=-1)]: Done  17 tasks      | elapsed:   10.1s\n",
      "[Parallel(n_jobs=-1)]: Done  24 tasks      | elapsed:   15.1s\n",
      "[Parallel(n_jobs=-1)]: Done  33 tasks      | elapsed:   24.5s\n",
      "[Parallel(n_jobs=-1)]: Done  42 tasks      | elapsed:   31.9s\n",
      "[Parallel(n_jobs=-1)]: Done  53 tasks      | elapsed:   36.0s\n",
      "[Parallel(n_jobs=-1)]: Done  64 tasks      | elapsed:   42.5s\n",
      "[Parallel(n_jobs=-1)]: Done  77 tasks      | elapsed:   57.9s\n",
      "[Parallel(n_jobs=-1)]: Done  90 tasks      | elapsed:  1.0min\n",
      "[Parallel(n_jobs=-1)]: Done 105 tasks      | elapsed:  1.2min\n",
      "[Parallel(n_jobs=-1)]: Done 120 tasks      | elapsed:  1.4min\n",
      "[Parallel(n_jobs=-1)]: Done 137 tasks      | elapsed:  1.6min\n",
      "[Parallel(n_jobs=-1)]: Done 154 tasks      | elapsed:  1.8min\n",
      "[Parallel(n_jobs=-1)]: Done 173 tasks      | elapsed:  2.0min\n"
     ]
    },
    {
     "ename": "KeyboardInterrupt",
     "evalue": "",
     "output_type": "error",
     "traceback": [
      "\u001b[1;31m---------------------------------------------------------------------------\u001b[0m",
      "\u001b[1;31mKeyboardInterrupt\u001b[0m                         Traceback (most recent call last)",
      "\u001b[1;32m<ipython-input-4-a2e686f1d600>\u001b[0m in \u001b[0;36m<module>\u001b[1;34m\u001b[0m\n\u001b[0;32m      7\u001b[0m \u001b[1;31m#metrics to consider: f1_micro, f1_macro, roc_auc_ovr\u001b[0m\u001b[1;33m\u001b[0m\u001b[1;33m\u001b[0m\u001b[1;33m\u001b[0m\u001b[0m\n\u001b[0;32m      8\u001b[0m \u001b[0mgsearch1\u001b[0m \u001b[1;33m=\u001b[0m \u001b[0mGridSearchCV\u001b[0m\u001b[1;33m(\u001b[0m\u001b[0mestimator\u001b[0m \u001b[1;33m=\u001b[0m \u001b[0mclf\u001b[0m\u001b[1;33m,\u001b[0m \u001b[0mparam_grid\u001b[0m \u001b[1;33m=\u001b[0m \u001b[0mparams\u001b[0m\u001b[1;33m,\u001b[0m \u001b[0mscoring\u001b[0m\u001b[1;33m=\u001b[0m\u001b[1;34m'f1_micro'\u001b[0m\u001b[1;33m,\u001b[0m\u001b[0mn_jobs\u001b[0m\u001b[1;33m=\u001b[0m\u001b[1;33m-\u001b[0m\u001b[1;36m1\u001b[0m\u001b[1;33m,\u001b[0m\u001b[0mverbose\u001b[0m \u001b[1;33m=\u001b[0m \u001b[1;36m10\u001b[0m\u001b[1;33m,\u001b[0m \u001b[0mcv\u001b[0m\u001b[1;33m=\u001b[0m\u001b[1;36m5\u001b[0m\u001b[1;33m)\u001b[0m\u001b[1;33m\u001b[0m\u001b[1;33m\u001b[0m\u001b[0m\n\u001b[1;32m----> 9\u001b[1;33m \u001b[0mgsearch1\u001b[0m\u001b[1;33m.\u001b[0m\u001b[0mfit\u001b[0m\u001b[1;33m(\u001b[0m\u001b[0mX_train\u001b[0m\u001b[1;33m,\u001b[0m \u001b[0my_train\u001b[0m\u001b[1;33m)\u001b[0m\u001b[1;33m\u001b[0m\u001b[1;33m\u001b[0m\u001b[0m\n\u001b[0m",
      "\u001b[1;32m~\\anaconda3\\lib\\site-packages\\sklearn\\utils\\validation.py\u001b[0m in \u001b[0;36minner_f\u001b[1;34m(*args, **kwargs)\u001b[0m\n\u001b[0;32m     71\u001b[0m                           FutureWarning)\n\u001b[0;32m     72\u001b[0m         \u001b[0mkwargs\u001b[0m\u001b[1;33m.\u001b[0m\u001b[0mupdate\u001b[0m\u001b[1;33m(\u001b[0m\u001b[1;33m{\u001b[0m\u001b[0mk\u001b[0m\u001b[1;33m:\u001b[0m \u001b[0marg\u001b[0m \u001b[1;32mfor\u001b[0m \u001b[0mk\u001b[0m\u001b[1;33m,\u001b[0m \u001b[0marg\u001b[0m \u001b[1;32min\u001b[0m \u001b[0mzip\u001b[0m\u001b[1;33m(\u001b[0m\u001b[0msig\u001b[0m\u001b[1;33m.\u001b[0m\u001b[0mparameters\u001b[0m\u001b[1;33m,\u001b[0m \u001b[0margs\u001b[0m\u001b[1;33m)\u001b[0m\u001b[1;33m}\u001b[0m\u001b[1;33m)\u001b[0m\u001b[1;33m\u001b[0m\u001b[1;33m\u001b[0m\u001b[0m\n\u001b[1;32m---> 73\u001b[1;33m         \u001b[1;32mreturn\u001b[0m \u001b[0mf\u001b[0m\u001b[1;33m(\u001b[0m\u001b[1;33m**\u001b[0m\u001b[0mkwargs\u001b[0m\u001b[1;33m)\u001b[0m\u001b[1;33m\u001b[0m\u001b[1;33m\u001b[0m\u001b[0m\n\u001b[0m\u001b[0;32m     74\u001b[0m     \u001b[1;32mreturn\u001b[0m \u001b[0minner_f\u001b[0m\u001b[1;33m\u001b[0m\u001b[1;33m\u001b[0m\u001b[0m\n\u001b[0;32m     75\u001b[0m \u001b[1;33m\u001b[0m\u001b[0m\n",
      "\u001b[1;32m~\\anaconda3\\lib\\site-packages\\sklearn\\model_selection\\_search.py\u001b[0m in \u001b[0;36mfit\u001b[1;34m(self, X, y, groups, **fit_params)\u001b[0m\n\u001b[0;32m    734\u001b[0m                 \u001b[1;32mreturn\u001b[0m \u001b[0mresults\u001b[0m\u001b[1;33m\u001b[0m\u001b[1;33m\u001b[0m\u001b[0m\n\u001b[0;32m    735\u001b[0m \u001b[1;33m\u001b[0m\u001b[0m\n\u001b[1;32m--> 736\u001b[1;33m             \u001b[0mself\u001b[0m\u001b[1;33m.\u001b[0m\u001b[0m_run_search\u001b[0m\u001b[1;33m(\u001b[0m\u001b[0mevaluate_candidates\u001b[0m\u001b[1;33m)\u001b[0m\u001b[1;33m\u001b[0m\u001b[1;33m\u001b[0m\u001b[0m\n\u001b[0m\u001b[0;32m    737\u001b[0m \u001b[1;33m\u001b[0m\u001b[0m\n\u001b[0;32m    738\u001b[0m         \u001b[1;31m# For multi-metric evaluation, store the best_index_, best_params_ and\u001b[0m\u001b[1;33m\u001b[0m\u001b[1;33m\u001b[0m\u001b[1;33m\u001b[0m\u001b[0m\n",
      "\u001b[1;32m~\\anaconda3\\lib\\site-packages\\sklearn\\model_selection\\_search.py\u001b[0m in \u001b[0;36m_run_search\u001b[1;34m(self, evaluate_candidates)\u001b[0m\n\u001b[0;32m   1186\u001b[0m     \u001b[1;32mdef\u001b[0m \u001b[0m_run_search\u001b[0m\u001b[1;33m(\u001b[0m\u001b[0mself\u001b[0m\u001b[1;33m,\u001b[0m \u001b[0mevaluate_candidates\u001b[0m\u001b[1;33m)\u001b[0m\u001b[1;33m:\u001b[0m\u001b[1;33m\u001b[0m\u001b[1;33m\u001b[0m\u001b[0m\n\u001b[0;32m   1187\u001b[0m         \u001b[1;34m\"\"\"Search all candidates in param_grid\"\"\"\u001b[0m\u001b[1;33m\u001b[0m\u001b[1;33m\u001b[0m\u001b[0m\n\u001b[1;32m-> 1188\u001b[1;33m         \u001b[0mevaluate_candidates\u001b[0m\u001b[1;33m(\u001b[0m\u001b[0mParameterGrid\u001b[0m\u001b[1;33m(\u001b[0m\u001b[0mself\u001b[0m\u001b[1;33m.\u001b[0m\u001b[0mparam_grid\u001b[0m\u001b[1;33m)\u001b[0m\u001b[1;33m)\u001b[0m\u001b[1;33m\u001b[0m\u001b[1;33m\u001b[0m\u001b[0m\n\u001b[0m\u001b[0;32m   1189\u001b[0m \u001b[1;33m\u001b[0m\u001b[0m\n\u001b[0;32m   1190\u001b[0m \u001b[1;33m\u001b[0m\u001b[0m\n",
      "\u001b[1;32m~\\anaconda3\\lib\\site-packages\\sklearn\\model_selection\\_search.py\u001b[0m in \u001b[0;36mevaluate_candidates\u001b[1;34m(candidate_params)\u001b[0m\n\u001b[0;32m    706\u001b[0m                               n_splits, n_candidates, n_candidates * n_splits))\n\u001b[0;32m    707\u001b[0m \u001b[1;33m\u001b[0m\u001b[0m\n\u001b[1;32m--> 708\u001b[1;33m                 out = parallel(delayed(_fit_and_score)(clone(base_estimator),\n\u001b[0m\u001b[0;32m    709\u001b[0m                                                        \u001b[0mX\u001b[0m\u001b[1;33m,\u001b[0m \u001b[0my\u001b[0m\u001b[1;33m,\u001b[0m\u001b[1;33m\u001b[0m\u001b[1;33m\u001b[0m\u001b[0m\n\u001b[0;32m    710\u001b[0m                                                        \u001b[0mtrain\u001b[0m\u001b[1;33m=\u001b[0m\u001b[0mtrain\u001b[0m\u001b[1;33m,\u001b[0m \u001b[0mtest\u001b[0m\u001b[1;33m=\u001b[0m\u001b[0mtest\u001b[0m\u001b[1;33m,\u001b[0m\u001b[1;33m\u001b[0m\u001b[1;33m\u001b[0m\u001b[0m\n",
      "\u001b[1;32m~\\anaconda3\\lib\\site-packages\\joblib\\parallel.py\u001b[0m in \u001b[0;36m__call__\u001b[1;34m(self, iterable)\u001b[0m\n\u001b[0;32m   1040\u001b[0m \u001b[1;33m\u001b[0m\u001b[0m\n\u001b[0;32m   1041\u001b[0m             \u001b[1;32mwith\u001b[0m \u001b[0mself\u001b[0m\u001b[1;33m.\u001b[0m\u001b[0m_backend\u001b[0m\u001b[1;33m.\u001b[0m\u001b[0mretrieval_context\u001b[0m\u001b[1;33m(\u001b[0m\u001b[1;33m)\u001b[0m\u001b[1;33m:\u001b[0m\u001b[1;33m\u001b[0m\u001b[1;33m\u001b[0m\u001b[0m\n\u001b[1;32m-> 1042\u001b[1;33m                 \u001b[0mself\u001b[0m\u001b[1;33m.\u001b[0m\u001b[0mretrieve\u001b[0m\u001b[1;33m(\u001b[0m\u001b[1;33m)\u001b[0m\u001b[1;33m\u001b[0m\u001b[1;33m\u001b[0m\u001b[0m\n\u001b[0m\u001b[0;32m   1043\u001b[0m             \u001b[1;31m# Make sure that we get a last message telling us we are done\u001b[0m\u001b[1;33m\u001b[0m\u001b[1;33m\u001b[0m\u001b[1;33m\u001b[0m\u001b[0m\n\u001b[0;32m   1044\u001b[0m             \u001b[0melapsed_time\u001b[0m \u001b[1;33m=\u001b[0m \u001b[0mtime\u001b[0m\u001b[1;33m.\u001b[0m\u001b[0mtime\u001b[0m\u001b[1;33m(\u001b[0m\u001b[1;33m)\u001b[0m \u001b[1;33m-\u001b[0m \u001b[0mself\u001b[0m\u001b[1;33m.\u001b[0m\u001b[0m_start_time\u001b[0m\u001b[1;33m\u001b[0m\u001b[1;33m\u001b[0m\u001b[0m\n",
      "\u001b[1;32m~\\anaconda3\\lib\\site-packages\\joblib\\parallel.py\u001b[0m in \u001b[0;36mretrieve\u001b[1;34m(self)\u001b[0m\n\u001b[0;32m    919\u001b[0m             \u001b[1;32mtry\u001b[0m\u001b[1;33m:\u001b[0m\u001b[1;33m\u001b[0m\u001b[1;33m\u001b[0m\u001b[0m\n\u001b[0;32m    920\u001b[0m                 \u001b[1;32mif\u001b[0m \u001b[0mgetattr\u001b[0m\u001b[1;33m(\u001b[0m\u001b[0mself\u001b[0m\u001b[1;33m.\u001b[0m\u001b[0m_backend\u001b[0m\u001b[1;33m,\u001b[0m \u001b[1;34m'supports_timeout'\u001b[0m\u001b[1;33m,\u001b[0m \u001b[1;32mFalse\u001b[0m\u001b[1;33m)\u001b[0m\u001b[1;33m:\u001b[0m\u001b[1;33m\u001b[0m\u001b[1;33m\u001b[0m\u001b[0m\n\u001b[1;32m--> 921\u001b[1;33m                     \u001b[0mself\u001b[0m\u001b[1;33m.\u001b[0m\u001b[0m_output\u001b[0m\u001b[1;33m.\u001b[0m\u001b[0mextend\u001b[0m\u001b[1;33m(\u001b[0m\u001b[0mjob\u001b[0m\u001b[1;33m.\u001b[0m\u001b[0mget\u001b[0m\u001b[1;33m(\u001b[0m\u001b[0mtimeout\u001b[0m\u001b[1;33m=\u001b[0m\u001b[0mself\u001b[0m\u001b[1;33m.\u001b[0m\u001b[0mtimeout\u001b[0m\u001b[1;33m)\u001b[0m\u001b[1;33m)\u001b[0m\u001b[1;33m\u001b[0m\u001b[1;33m\u001b[0m\u001b[0m\n\u001b[0m\u001b[0;32m    922\u001b[0m                 \u001b[1;32melse\u001b[0m\u001b[1;33m:\u001b[0m\u001b[1;33m\u001b[0m\u001b[1;33m\u001b[0m\u001b[0m\n\u001b[0;32m    923\u001b[0m                     \u001b[0mself\u001b[0m\u001b[1;33m.\u001b[0m\u001b[0m_output\u001b[0m\u001b[1;33m.\u001b[0m\u001b[0mextend\u001b[0m\u001b[1;33m(\u001b[0m\u001b[0mjob\u001b[0m\u001b[1;33m.\u001b[0m\u001b[0mget\u001b[0m\u001b[1;33m(\u001b[0m\u001b[1;33m)\u001b[0m\u001b[1;33m)\u001b[0m\u001b[1;33m\u001b[0m\u001b[1;33m\u001b[0m\u001b[0m\n",
      "\u001b[1;32m~\\anaconda3\\lib\\site-packages\\joblib\\_parallel_backends.py\u001b[0m in \u001b[0;36mwrap_future_result\u001b[1;34m(future, timeout)\u001b[0m\n\u001b[0;32m    540\u001b[0m         AsyncResults.get from multiprocessing.\"\"\"\n\u001b[0;32m    541\u001b[0m         \u001b[1;32mtry\u001b[0m\u001b[1;33m:\u001b[0m\u001b[1;33m\u001b[0m\u001b[1;33m\u001b[0m\u001b[0m\n\u001b[1;32m--> 542\u001b[1;33m             \u001b[1;32mreturn\u001b[0m \u001b[0mfuture\u001b[0m\u001b[1;33m.\u001b[0m\u001b[0mresult\u001b[0m\u001b[1;33m(\u001b[0m\u001b[0mtimeout\u001b[0m\u001b[1;33m=\u001b[0m\u001b[0mtimeout\u001b[0m\u001b[1;33m)\u001b[0m\u001b[1;33m\u001b[0m\u001b[1;33m\u001b[0m\u001b[0m\n\u001b[0m\u001b[0;32m    543\u001b[0m         \u001b[1;32mexcept\u001b[0m \u001b[0mCfTimeoutError\u001b[0m \u001b[1;32mas\u001b[0m \u001b[0me\u001b[0m\u001b[1;33m:\u001b[0m\u001b[1;33m\u001b[0m\u001b[1;33m\u001b[0m\u001b[0m\n\u001b[0;32m    544\u001b[0m             \u001b[1;32mraise\u001b[0m \u001b[0mTimeoutError\u001b[0m \u001b[1;32mfrom\u001b[0m \u001b[0me\u001b[0m\u001b[1;33m\u001b[0m\u001b[1;33m\u001b[0m\u001b[0m\n",
      "\u001b[1;32m~\\anaconda3\\lib\\concurrent\\futures\\_base.py\u001b[0m in \u001b[0;36mresult\u001b[1;34m(self, timeout)\u001b[0m\n\u001b[0;32m    432\u001b[0m                 \u001b[1;32mreturn\u001b[0m \u001b[0mself\u001b[0m\u001b[1;33m.\u001b[0m\u001b[0m__get_result\u001b[0m\u001b[1;33m(\u001b[0m\u001b[1;33m)\u001b[0m\u001b[1;33m\u001b[0m\u001b[1;33m\u001b[0m\u001b[0m\n\u001b[0;32m    433\u001b[0m \u001b[1;33m\u001b[0m\u001b[0m\n\u001b[1;32m--> 434\u001b[1;33m             \u001b[0mself\u001b[0m\u001b[1;33m.\u001b[0m\u001b[0m_condition\u001b[0m\u001b[1;33m.\u001b[0m\u001b[0mwait\u001b[0m\u001b[1;33m(\u001b[0m\u001b[0mtimeout\u001b[0m\u001b[1;33m)\u001b[0m\u001b[1;33m\u001b[0m\u001b[1;33m\u001b[0m\u001b[0m\n\u001b[0m\u001b[0;32m    435\u001b[0m \u001b[1;33m\u001b[0m\u001b[0m\n\u001b[0;32m    436\u001b[0m             \u001b[1;32mif\u001b[0m \u001b[0mself\u001b[0m\u001b[1;33m.\u001b[0m\u001b[0m_state\u001b[0m \u001b[1;32min\u001b[0m \u001b[1;33m[\u001b[0m\u001b[0mCANCELLED\u001b[0m\u001b[1;33m,\u001b[0m \u001b[0mCANCELLED_AND_NOTIFIED\u001b[0m\u001b[1;33m]\u001b[0m\u001b[1;33m:\u001b[0m\u001b[1;33m\u001b[0m\u001b[1;33m\u001b[0m\u001b[0m\n",
      "\u001b[1;32m~\\anaconda3\\lib\\threading.py\u001b[0m in \u001b[0;36mwait\u001b[1;34m(self, timeout)\u001b[0m\n\u001b[0;32m    300\u001b[0m         \u001b[1;32mtry\u001b[0m\u001b[1;33m:\u001b[0m    \u001b[1;31m# restore state no matter what (e.g., KeyboardInterrupt)\u001b[0m\u001b[1;33m\u001b[0m\u001b[1;33m\u001b[0m\u001b[0m\n\u001b[0;32m    301\u001b[0m             \u001b[1;32mif\u001b[0m \u001b[0mtimeout\u001b[0m \u001b[1;32mis\u001b[0m \u001b[1;32mNone\u001b[0m\u001b[1;33m:\u001b[0m\u001b[1;33m\u001b[0m\u001b[1;33m\u001b[0m\u001b[0m\n\u001b[1;32m--> 302\u001b[1;33m                 \u001b[0mwaiter\u001b[0m\u001b[1;33m.\u001b[0m\u001b[0macquire\u001b[0m\u001b[1;33m(\u001b[0m\u001b[1;33m)\u001b[0m\u001b[1;33m\u001b[0m\u001b[1;33m\u001b[0m\u001b[0m\n\u001b[0m\u001b[0;32m    303\u001b[0m                 \u001b[0mgotit\u001b[0m \u001b[1;33m=\u001b[0m \u001b[1;32mTrue\u001b[0m\u001b[1;33m\u001b[0m\u001b[1;33m\u001b[0m\u001b[0m\n\u001b[0;32m    304\u001b[0m             \u001b[1;32melse\u001b[0m\u001b[1;33m:\u001b[0m\u001b[1;33m\u001b[0m\u001b[1;33m\u001b[0m\u001b[0m\n",
      "\u001b[1;31mKeyboardInterrupt\u001b[0m: "
     ]
    }
   ],
   "source": [
    "params = {\n",
    "    'n_estimators': range(100,500,50),\n",
    "    'max_depth' : [8, 9, 10, 11, 12],\n",
    "    'max_features': ['auto'],\n",
    "    'criterion':['gini']}\n",
    "\n",
    "#metrics to consider: f1_micro, f1_macro, roc_auc_ovr\n",
    "gsearch1 = GridSearchCV(estimator = clf, param_grid = params, scoring='f1_micro',n_jobs=-1,verbose = 10, cv=5)\n",
    "gsearch1.fit(X_train, y_train)"
   ]
  },
  {
   "cell_type": "code",
   "execution_count": 4,
   "metadata": {},
   "outputs": [
    {
     "data": {
      "text/plain": [
       "({0: \"mean:0.2407641782854007params{'criterion': 'gini', 'max_depth': 8, 'max_features': 'auto', 'n_estimators': 100}\",\n",
       "  1: \"mean:0.24194577352472088params{'criterion': 'gini', 'max_depth': 8, 'max_features': 'auto', 'n_estimators': 150}\",\n",
       "  2: \"mean:0.24370015948963317params{'criterion': 'gini', 'max_depth': 8, 'max_features': 'auto', 'n_estimators': 200}\",\n",
       "  3: \"mean:0.2378470614463823params{'criterion': 'gini', 'max_depth': 8, 'max_features': 'auto', 'n_estimators': 250}\",\n",
       "  4: \"mean:0.23843014182572758params{'criterion': 'gini', 'max_depth': 8, 'max_features': 'auto', 'n_estimators': 300}\",\n",
       "  5: \"mean:0.24018624273293204params{'criterion': 'gini', 'max_depth': 8, 'max_features': 'auto', 'n_estimators': 350}\",\n",
       "  6: \"mean:0.2390132222050728params{'criterion': 'gini', 'max_depth': 8, 'max_features': 'auto', 'n_estimators': 400}\",\n",
       "  7: \"mean:0.23843014182572758params{'criterion': 'gini', 'max_depth': 8, 'max_features': 'auto', 'n_estimators': 450}\",\n",
       "  8: \"mean:0.23901493714736502params{'criterion': 'gini', 'max_depth': 9, 'max_features': 'auto', 'n_estimators': 100}\",\n",
       "  9: \"mean:0.23960144741129458params{'criterion': 'gini', 'max_depth': 9, 'max_features': 'auto', 'n_estimators': 150}\",\n",
       "  10: \"mean:0.23725712129786833params{'criterion': 'gini', 'max_depth': 9, 'max_features': 'auto', 'n_estimators': 200}\",\n",
       "  11: \"mean:0.23725712129786833params{'criterion': 'gini', 'max_depth': 9, 'max_features': 'auto', 'n_estimators': 250}\",\n",
       "  12: \"mean:0.23667404091852307params{'criterion': 'gini', 'max_depth': 9, 'max_features': 'auto', 'n_estimators': 300}\",\n",
       "  13: \"mean:0.23960144741129458params{'criterion': 'gini', 'max_depth': 9, 'max_features': 'auto', 'n_estimators': 350}\",\n",
       "  14: \"mean:0.23901150726278061params{'criterion': 'gini', 'max_depth': 9, 'max_features': 'auto', 'n_estimators': 400}\",\n",
       "  15: \"mean:0.24077446793915383params{'criterion': 'gini', 'max_depth': 9, 'max_features': 'auto', 'n_estimators': 450}\",\n",
       "  16: \"mean:0.24077446793915383params{'criterion': 'gini', 'max_depth': 10, 'max_features': 'auto', 'n_estimators': 100}\",\n",
       "  17: \"mean:0.24194062869784433params{'criterion': 'gini', 'max_depth': 10, 'max_features': 'auto', 'n_estimators': 150}\",\n",
       "  18: \"mean:0.24018624273293204params{'criterion': 'gini', 'max_depth': 10, 'max_features': 'auto', 'n_estimators': 200}\",\n",
       "  19: \"mean:0.24018109790605546params{'criterion': 'gini', 'max_depth': 10, 'max_features': 'auto', 'n_estimators': 250}\",\n",
       "  20: \"mean:0.24253399873094272params{'criterion': 'gini', 'max_depth': 10, 'max_features': 'auto', 'n_estimators': 300}\",\n",
       "  21: \"mean:0.2390166520896572params{'criterion': 'gini', 'max_depth': 10, 'max_features': 'auto', 'n_estimators': 350}\",\n",
       "  22: \"mean:0.24018452779063987params{'criterion': 'gini', 'max_depth': 10, 'max_features': 'auto', 'n_estimators': 400}\",\n",
       "  23: \"mean:0.2372588362401605params{'criterion': 'gini', 'max_depth': 10, 'max_features': 'auto', 'n_estimators': 450}\",\n",
       "  24: \"mean:0.2360789559431325params{'criterion': 'gini', 'max_depth': 11, 'max_features': 'auto', 'n_estimators': 100}\",\n",
       "  25: \"mean:0.2366723259762309params{'criterion': 'gini', 'max_depth': 11, 'max_features': 'auto', 'n_estimators': 150}\",\n",
       "  26: \"mean:0.24018795767522425params{'criterion': 'gini', 'max_depth': 11, 'max_features': 'auto', 'n_estimators': 200}\",\n",
       "  27: \"mean:0.24018967261751642params{'criterion': 'gini', 'max_depth': 11, 'max_features': 'auto', 'n_estimators': 250}\",\n",
       "  28: \"mean:0.24311364922570355params{'criterion': 'gini', 'max_depth': 11, 'max_features': 'auto', 'n_estimators': 300}\",\n",
       "  29: \"mean:0.24370530431650975params{'criterion': 'gini', 'max_depth': 11, 'max_features': 'auto', 'n_estimators': 350}\",\n",
       "  30: \"mean:0.2396031623535868params{'criterion': 'gini', 'max_depth': 11, 'max_features': 'auto', 'n_estimators': 400}\",\n",
       "  31: \"mean:0.23725369141328395params{'criterion': 'gini', 'max_depth': 11, 'max_features': 'auto', 'n_estimators': 450}\",\n",
       "  32: \"mean:0.24487146507520025params{'criterion': 'gini', 'max_depth': 12, 'max_features': 'auto', 'n_estimators': 100}\",\n",
       "  33: \"mean:0.24311536416799573params{'criterion': 'gini', 'max_depth': 12, 'max_features': 'auto', 'n_estimators': 150}\",\n",
       "  34: \"mean:0.24194577352472088params{'criterion': 'gini', 'max_depth': 12, 'max_features': 'auto', 'n_estimators': 200}\",\n",
       "  35: \"mean:0.24076932311227725params{'criterion': 'gini', 'max_depth': 12, 'max_features': 'auto', 'n_estimators': 250}\",\n",
       "  36: \"mean:0.2390097923204884params{'criterion': 'gini', 'max_depth': 12, 'max_features': 'auto', 'n_estimators': 300}\",\n",
       "  37: \"mean:0.2390132222050728params{'criterion': 'gini', 'max_depth': 12, 'max_features': 'auto', 'n_estimators': 350}\",\n",
       "  38: \"mean:0.23960487729587898params{'criterion': 'gini', 'max_depth': 12, 'max_features': 'auto', 'n_estimators': 400}\",\n",
       "  39: \"mean:0.23843014182572758params{'criterion': 'gini', 'max_depth': 12, 'max_features': 'auto', 'n_estimators': 450}\"},\n",
       " {'best_mean': 0.24487146507520025,\n",
       "  'best_param': {'criterion': 'gini',\n",
       "   'max_depth': 12,\n",
       "   'max_features': 'auto',\n",
       "   'n_estimators': 100}})"
      ]
     },
     "execution_count": 4,
     "metadata": {},
     "output_type": "execute_result"
    }
   ],
   "source": [
    "def getTrainScores(gs):\n",
    "    results = {}\n",
    "    runs = 0\n",
    "    for x,y in zip(list(gs.cv_results_['mean_test_score']), gs.cv_results_['params']):\n",
    "        results[runs] = 'mean:' + str(x) + 'params' + str(y)\n",
    "        runs += 1\n",
    "    best = {'best_mean': gs.best_score_, \"best_param\":gs.best_params_}\n",
    "    return results, best\n",
    "\n",
    "getTrainScores(gsearch1)"
   ]
  },
  {
   "cell_type": "code",
   "execution_count": null,
   "metadata": {},
   "outputs": [],
   "source": [
    "clf2 = gsearch1.best_estimator_\n",
    "\n",
    "params1 = {\n",
    "    'n_estimators'      : range(200,300,10),\n",
    "    'max_depth'         : [11, 12,13]\n",
    "}\n",
    "\n",
    "#metrics to consider: f1_micro, f1_macro, roc_auc_ovr\n",
    "gsearch2 = GridSearchCV(estimator = clf2, param_grid = params1, scoring='f1_micro',n_jobs=-1,verbose = 10, cv=5)\n",
    "gsearch2.fit(X_train, y_train)"
   ]
  },
  {
   "cell_type": "code",
   "execution_count": 6,
   "metadata": {},
   "outputs": [
    {
     "data": {
      "text/plain": [
       "({0: \"mean:0.24194577352472088params{'max_depth': 11, 'n_estimators': 200}\",\n",
       "  1: \"mean:0.23783677179262916params{'max_depth': 11, 'n_estimators': 210}\",\n",
       "  2: \"mean:0.24018967261751642params{'max_depth': 11, 'n_estimators': 220}\",\n",
       "  3: \"mean:0.23959801752671023params{'max_depth': 11, 'n_estimators': 230}\",\n",
       "  4: \"mean:0.23784020167721356params{'max_depth': 11, 'n_estimators': 240}\",\n",
       "  5: \"mean:0.24077103805456943params{'max_depth': 11, 'n_estimators': 250}\",\n",
       "  6: \"mean:0.23784020167721356params{'max_depth': 11, 'n_estimators': 260}\",\n",
       "  7: \"mean:0.23784363156179794params{'max_depth': 11, 'n_estimators': 270}\",\n",
       "  8: \"mean:0.23843014182572758params{'max_depth': 11, 'n_estimators': 280}\",\n",
       "  9: \"mean:0.23784534650409012params{'max_depth': 11, 'n_estimators': 290}\",\n",
       "  10: \"mean:0.23667061103393872params{'max_depth': 12, 'n_estimators': 200}\",\n",
       "  11: \"mean:0.23901150726278061params{'max_depth': 12, 'n_estimators': 210}\",\n",
       "  12: \"mean:0.2425322837886505params{'max_depth': 12, 'n_estimators': 220}\",\n",
       "  13: \"mean:0.24077446793915383params{'max_depth': 12, 'n_estimators': 230}\",\n",
       "  14: \"mean:0.23725712129786833params{'max_depth': 12, 'n_estimators': 240}\",\n",
       "  15: \"mean:0.23901493714736496params{'max_depth': 12, 'n_estimators': 250}\",\n",
       "  16: \"mean:0.23666546620706214params{'max_depth': 12, 'n_estimators': 260}\",\n",
       "  17: \"mean:0.24194062869784433params{'max_depth': 12, 'n_estimators': 270}\",\n",
       "  18: \"mean:0.24310678945653477params{'max_depth': 12, 'n_estimators': 280}\",\n",
       "  19: \"mean:0.23842842688343535params{'max_depth': 12, 'n_estimators': 290}\",\n",
       "  20: \"mean:0.243698444547341params{'max_depth': 13, 'n_estimators': 200}\",\n",
       "  21: \"mean:0.24076932311227725params{'max_depth': 13, 'n_estimators': 210}\",\n",
       "  22: \"mean:0.24135754831849904params{'max_depth': 13, 'n_estimators': 220}\",\n",
       "  23: \"mean:0.24076932311227725params{'max_depth': 13, 'n_estimators': 230}\",\n",
       "  24: \"mean:0.24311021934111915params{'max_depth': 13, 'n_estimators': 240}\",\n",
       "  25: \"mean:0.24311707911028796params{'max_depth': 13, 'n_estimators': 250}\",\n",
       "  26: \"mean:0.24194577352472088params{'max_depth': 13, 'n_estimators': 260}\",\n",
       "  27: \"mean:0.2395997324690024params{'max_depth': 13, 'n_estimators': 270}\",\n",
       "  28: \"mean:0.23843014182572758params{'max_depth': 13, 'n_estimators': 280}\",\n",
       "  29: \"mean:0.24370873420109412params{'max_depth': 13, 'n_estimators': 290}\"},\n",
       " {'best_mean': 0.24370873420109412,\n",
       "  'best_param': {'max_depth': 13, 'n_estimators': 290}})"
      ]
     },
     "execution_count": 6,
     "metadata": {},
     "output_type": "execute_result"
    }
   ],
   "source": [
    "getTrainScores(gsearch2)"
   ]
  },
  {
   "cell_type": "code",
   "execution_count": 7,
   "metadata": {},
   "outputs": [
    {
     "name": "stdout",
     "output_type": "stream",
     "text": [
      "Fitting 5 folds for each of 12 candidates, totalling 60 fits\n"
     ]
    },
    {
     "name": "stderr",
     "output_type": "stream",
     "text": [
      "[Parallel(n_jobs=-1)]: Using backend LokyBackend with 4 concurrent workers.\n",
      "[Parallel(n_jobs=-1)]: Done   5 tasks      | elapsed:    5.7s\n",
      "[Parallel(n_jobs=-1)]: Done  10 tasks      | elapsed:    9.2s\n",
      "[Parallel(n_jobs=-1)]: Done  17 tasks      | elapsed:   15.5s\n",
      "[Parallel(n_jobs=-1)]: Done  24 tasks      | elapsed:   21.1s\n",
      "[Parallel(n_jobs=-1)]: Done  33 tasks      | elapsed:   27.3s\n",
      "[Parallel(n_jobs=-1)]: Done  42 tasks      | elapsed:   36.0s\n",
      "[Parallel(n_jobs=-1)]: Done  53 tasks      | elapsed:   44.8s\n",
      "[Parallel(n_jobs=-1)]: Done  60 out of  60 | elapsed:   49.4s remaining:    0.0s\n",
      "[Parallel(n_jobs=-1)]: Done  60 out of  60 | elapsed:   49.4s finished\n",
      "C:\\Users\\admin\\anaconda3\\lib\\site-packages\\sklearn\\model_selection\\_search.py:765: DataConversionWarning: A column-vector y was passed when a 1d array was expected. Please change the shape of y to (n_samples,), for example using ravel().\n",
      "  self.best_estimator_.fit(X, y, **fit_params)\n",
      "[Parallel(n_jobs=-1)]: Using backend ThreadingBackend with 4 concurrent workers.\n",
      "[Parallel(n_jobs=-1)]: Done  42 tasks      | elapsed:    0.1s\n",
      "[Parallel(n_jobs=-1)]: Done 192 tasks      | elapsed:    0.9s\n",
      "[Parallel(n_jobs=-1)]: Done 200 out of 200 | elapsed:    0.9s finished\n"
     ]
    },
    {
     "data": {
      "text/plain": [
       "GridSearchCV(cv=5,\n",
       "             estimator=RandomForestClassifier(max_depth=13,\n",
       "                                              min_samples_split=150,\n",
       "                                              n_estimators=290, n_jobs=-1,\n",
       "                                              verbose=1),\n",
       "             n_jobs=-1,\n",
       "             param_grid={'max_depth': [13, 14, 15],\n",
       "                         'n_estimators': range(200, 220, 5)},\n",
       "             scoring='f1_micro', verbose=10)"
      ]
     },
     "execution_count": 7,
     "metadata": {},
     "output_type": "execute_result"
    }
   ],
   "source": [
    "clf3 = gsearch2.best_estimator_\n",
    "\n",
    "params2 = {\n",
    "    'n_estimators'      : range(200,220,5),\n",
    "    'max_depth'         : [13,14,15]\n",
    "}\n",
    "\n",
    "#metrics to consider: f1_micro, f1_macro, roc_auc_ovr\n",
    "gsearch3 = GridSearchCV(estimator = clf3, param_grid = params2, scoring='f1_micro',n_jobs=-1,verbose = 10, cv=5)\n",
    "gsearch3.fit(X_train, y_train)"
   ]
  },
  {
   "cell_type": "code",
   "execution_count": 8,
   "metadata": {},
   "outputs": [
    {
     "data": {
      "text/plain": [
       "({0: \"mean:0.23843014182572758params{'max_depth': 13, 'n_estimators': 200}\",\n",
       "  1: \"mean:0.24077618288144603params{'max_depth': 13, 'n_estimators': 205}\",\n",
       "  2: \"mean:0.23784020167721356params{'max_depth': 13, 'n_estimators': 210}\",\n",
       "  3: \"mean:0.2366671811493543params{'max_depth': 13, 'n_estimators': 215}\",\n",
       "  4: \"mean:0.24369844454734096params{'max_depth': 14, 'n_estimators': 200}\",\n",
       "  5: \"mean:0.24077446793915383params{'max_depth': 14, 'n_estimators': 205}\",\n",
       "  6: \"mean:0.2366671811493543params{'max_depth': 14, 'n_estimators': 210}\",\n",
       "  7: \"mean:0.23784534650409012params{'max_depth': 14, 'n_estimators': 215}\",\n",
       "  8: \"mean:0.24252885390406612params{'max_depth': 15, 'n_estimators': 200}\",\n",
       "  9: \"mean:0.24253399873094267params{'max_depth': 15, 'n_estimators': 205}\",\n",
       "  10: \"mean:0.24077103805456948params{'max_depth': 15, 'n_estimators': 210}\",\n",
       "  11: \"mean:0.2413541184339147params{'max_depth': 15, 'n_estimators': 215}\"},\n",
       " {'best_mean': 0.24369844454734096,\n",
       "  'best_param': {'max_depth': 14, 'n_estimators': 200}})"
      ]
     },
     "execution_count": 8,
     "metadata": {},
     "output_type": "execute_result"
    }
   ],
   "source": [
    "getTrainScores(gsearch3)"
   ]
  },
  {
   "cell_type": "code",
   "execution_count": 9,
   "metadata": {},
   "outputs": [
    {
     "name": "stdout",
     "output_type": "stream",
     "text": [
      "Fitting 5 folds for each of 6 candidates, totalling 30 fits\n"
     ]
    },
    {
     "name": "stderr",
     "output_type": "stream",
     "text": [
      "[Parallel(n_jobs=-1)]: Using backend LokyBackend with 4 concurrent workers.\n",
      "[Parallel(n_jobs=-1)]: Done   5 tasks      | elapsed:    5.6s\n",
      "[Parallel(n_jobs=-1)]: Done  10 tasks      | elapsed:    8.7s\n",
      "[Parallel(n_jobs=-1)]: Done  17 tasks      | elapsed:   14.4s\n",
      "[Parallel(n_jobs=-1)]: Done  27 out of  30 | elapsed:   22.7s remaining:    2.4s\n",
      "[Parallel(n_jobs=-1)]: Done  30 out of  30 | elapsed:   24.1s finished\n",
      "C:\\Users\\admin\\anaconda3\\lib\\site-packages\\sklearn\\model_selection\\_search.py:765: DataConversionWarning: A column-vector y was passed when a 1d array was expected. Please change the shape of y to (n_samples,), for example using ravel().\n",
      "  self.best_estimator_.fit(X, y, **fit_params)\n",
      "[Parallel(n_jobs=-1)]: Using backend ThreadingBackend with 4 concurrent workers.\n",
      "[Parallel(n_jobs=-1)]: Done  42 tasks      | elapsed:    0.1s\n",
      "[Parallel(n_jobs=-1)]: Done 192 tasks      | elapsed:    0.9s\n",
      "[Parallel(n_jobs=-1)]: Done 200 out of 200 | elapsed:    0.9s finished\n"
     ]
    },
    {
     "data": {
      "text/plain": [
       "GridSearchCV(cv=5,\n",
       "             estimator=RandomForestClassifier(max_depth=14,\n",
       "                                              min_samples_split=150,\n",
       "                                              n_estimators=200, n_jobs=-1,\n",
       "                                              verbose=1),\n",
       "             n_jobs=-1, param_grid={'max_depth': range(14, 20)},\n",
       "             scoring='f1_micro', verbose=10)"
      ]
     },
     "execution_count": 9,
     "metadata": {},
     "output_type": "execute_result"
    }
   ],
   "source": [
    "clf4 = gsearch3.best_estimator_\n",
    "\n",
    "params3 = {\n",
    "    'max_depth'         : range(14,20,1)\n",
    "}\n",
    "#metrics to consider: f1_micro, f1_macro, roc_auc_ovr\n",
    "gsearch4 = GridSearchCV(estimator = clf4, param_grid = params3, scoring='f1_micro',n_jobs=-1,verbose = 10, cv=5)\n",
    "gsearch4.fit(X_train, y_train)"
   ]
  },
  {
   "cell_type": "code",
   "execution_count": 10,
   "metadata": {},
   "outputs": [
    {
     "data": {
      "text/plain": [
       "({0: \"mean:0.24077103805456948params{'max_depth': 14}\",\n",
       "  1: \"mean:0.23843185676801976params{'max_depth': 15}\",\n",
       "  2: \"mean:0.2407778978237382params{'max_depth': 16}\",\n",
       "  3: \"mean:0.23960144741129458params{'max_depth': 17}\",\n",
       "  4: \"mean:0.23667061103393872params{'max_depth': 18}\",\n",
       "  5: \"mean:0.24194577352472088params{'max_depth': 19}\"},\n",
       " {'best_mean': 0.24194577352472088, 'best_param': {'max_depth': 19}})"
      ]
     },
     "execution_count": 10,
     "metadata": {},
     "output_type": "execute_result"
    }
   ],
   "source": [
    "getTrainScores(gsearch4)"
   ]
  },
  {
   "cell_type": "code",
   "execution_count": 11,
   "metadata": {},
   "outputs": [
    {
     "name": "stdout",
     "output_type": "stream",
     "text": [
      "Fitting 5 folds for each of 16 candidates, totalling 80 fits\n"
     ]
    },
    {
     "name": "stderr",
     "output_type": "stream",
     "text": [
      "[Parallel(n_jobs=-1)]: Using backend LokyBackend with 4 concurrent workers.\n",
      "[Parallel(n_jobs=-1)]: Done   5 tasks      | elapsed:    5.6s\n",
      "[Parallel(n_jobs=-1)]: Done  10 tasks      | elapsed:    8.5s\n",
      "[Parallel(n_jobs=-1)]: Done  17 tasks      | elapsed:   14.5s\n",
      "[Parallel(n_jobs=-1)]: Done  24 tasks      | elapsed:   20.2s\n",
      "[Parallel(n_jobs=-1)]: Done  33 tasks      | elapsed:   27.0s\n",
      "[Parallel(n_jobs=-1)]: Done  42 tasks      | elapsed:   36.8s\n",
      "[Parallel(n_jobs=-1)]: Done  53 tasks      | elapsed:   48.1s\n",
      "[Parallel(n_jobs=-1)]: Done  64 tasks      | elapsed:   59.3s\n",
      "[Parallel(n_jobs=-1)]: Done  80 out of  80 | elapsed:  1.3min finished\n",
      "C:\\Users\\admin\\anaconda3\\lib\\site-packages\\sklearn\\model_selection\\_search.py:765: DataConversionWarning: A column-vector y was passed when a 1d array was expected. Please change the shape of y to (n_samples,), for example using ravel().\n",
      "  self.best_estimator_.fit(X, y, **fit_params)\n",
      "[Parallel(n_jobs=-1)]: Using backend ThreadingBackend with 4 concurrent workers.\n",
      "[Parallel(n_jobs=-1)]: Done  42 tasks      | elapsed:    0.2s\n",
      "[Parallel(n_jobs=-1)]: Done 192 tasks      | elapsed:    1.1s\n",
      "[Parallel(n_jobs=-1)]: Done 200 out of 200 | elapsed:    1.2s finished\n"
     ]
    },
    {
     "data": {
      "text/plain": [
       "GridSearchCV(cv=5,\n",
       "             estimator=RandomForestClassifier(max_depth=19,\n",
       "                                              min_samples_split=150,\n",
       "                                              n_estimators=200, n_jobs=-1,\n",
       "                                              verbose=1),\n",
       "             n_jobs=-1, param_grid={'max_depth': range(19, 50, 2)},\n",
       "             scoring='f1_micro', verbose=10)"
      ]
     },
     "execution_count": 11,
     "metadata": {},
     "output_type": "execute_result"
    }
   ],
   "source": [
    "clf5 = gsearch4.best_estimator_\n",
    "\n",
    "params4 = {\n",
    "    'max_depth'         : range(19,50,2)\n",
    "}\n",
    "\n",
    "#metrics to consider: f1_micro, f1_macro, roc_auc_ovr\n",
    "gsearch5 = GridSearchCV(estimator = clf5, param_grid = params4, scoring='f1_micro',n_jobs=-1,verbose = 10, cv=5)\n",
    "gsearch5.fit(X_train, y_train)"
   ]
  },
  {
   "cell_type": "code",
   "execution_count": 12,
   "metadata": {},
   "outputs": [
    {
     "data": {
      "text/plain": [
       "({0: \"mean:0.24135926326079127params{'max_depth': 19}\",\n",
       "  1: \"mean:0.2425322837886505params{'max_depth': 21}\",\n",
       "  2: \"mean:0.24545969028142203params{'max_depth': 23}\",\n",
       "  3: \"mean:0.23843014182572758params{'max_depth': 25}\",\n",
       "  4: \"mean:0.23725197647099178params{'max_depth': 27}\",\n",
       "  5: \"mean:0.24077103805456948params{'max_depth': 29}\",\n",
       "  6: \"mean:0.2425254240194817params{'max_depth': 31}\",\n",
       "  7: \"mean:0.24076589322769287params{'max_depth': 33}\",\n",
       "  8: \"mean:0.23901836703194937params{'max_depth': 35}\",\n",
       "  9: \"mean:0.24311879405258013params{'max_depth': 37}\",\n",
       "  10: \"mean:0.23608238582771687params{'max_depth': 39}\",\n",
       "  11: \"mean:0.23784020167721356params{'max_depth': 41}\",\n",
       "  12: \"mean:0.24076760816998508params{'max_depth': 43}\",\n",
       "  13: \"mean:0.23901493714736496params{'max_depth': 45}\",\n",
       "  14: \"mean:0.24136269314537567params{'max_depth': 47}\",\n",
       "  15: \"mean:0.24253056884635832params{'max_depth': 49}\"},\n",
       " {'best_mean': 0.24545969028142203, 'best_param': {'max_depth': 23}})"
      ]
     },
     "execution_count": 12,
     "metadata": {},
     "output_type": "execute_result"
    }
   ],
   "source": [
    "getTrainScores(gsearch5)"
   ]
  },
  {
   "cell_type": "code",
   "execution_count": 13,
   "metadata": {},
   "outputs": [
    {
     "name": "stdout",
     "output_type": "stream",
     "text": [
      "Fitting 5 folds for each of 3 candidates, totalling 15 fits\n"
     ]
    },
    {
     "name": "stderr",
     "output_type": "stream",
     "text": [
      "[Parallel(n_jobs=-1)]: Using backend LokyBackend with 4 concurrent workers.\n",
      "[Parallel(n_jobs=-1)]: Done   5 tasks      | elapsed:    6.1s\n",
      "[Parallel(n_jobs=-1)]: Done  10 out of  15 | elapsed:   10.4s remaining:    5.1s\n",
      "[Parallel(n_jobs=-1)]: Done  12 out of  15 | elapsed:   11.6s remaining:    2.8s\n",
      "[Parallel(n_jobs=-1)]: Done  15 out of  15 | elapsed:   15.1s finished\n",
      "C:\\Users\\admin\\anaconda3\\lib\\site-packages\\sklearn\\model_selection\\_search.py:765: DataConversionWarning: A column-vector y was passed when a 1d array was expected. Please change the shape of y to (n_samples,), for example using ravel().\n",
      "  self.best_estimator_.fit(X, y, **fit_params)\n",
      "[Parallel(n_jobs=-1)]: Using backend ThreadingBackend with 4 concurrent workers.\n",
      "[Parallel(n_jobs=-1)]: Done  42 tasks      | elapsed:    0.2s\n",
      "[Parallel(n_jobs=-1)]: Done 192 tasks      | elapsed:    1.1s\n",
      "[Parallel(n_jobs=-1)]: Done 200 out of 200 | elapsed:    1.2s finished\n"
     ]
    },
    {
     "data": {
      "text/plain": [
       "GridSearchCV(cv=5,\n",
       "             estimator=RandomForestClassifier(max_depth=23,\n",
       "                                              min_samples_split=150,\n",
       "                                              n_estimators=200, n_jobs=-1,\n",
       "                                              verbose=1),\n",
       "             n_jobs=-1, param_grid={'max_depth': [24, 25, 26]},\n",
       "             scoring='f1_micro', verbose=10)"
      ]
     },
     "execution_count": 13,
     "metadata": {},
     "output_type": "execute_result"
    }
   ],
   "source": [
    "clf6 = gsearch5.best_estimator_\n",
    "\n",
    "params5 = {\n",
    "    'max_depth'         : [24,25,26]\n",
    "}\n",
    "\n",
    "#metrics to consider: f1_micro, f1_macro, roc_auc_ovr\n",
    "gsearch6 = GridSearchCV(estimator = clf6, param_grid = params5, scoring='f1_micro',n_jobs=-1,verbose = 10, cv=5)\n",
    "gsearch6.fit(X_train, y_train)"
   ]
  },
  {
   "cell_type": "code",
   "execution_count": 14,
   "metadata": {},
   "outputs": [
    {
     "data": {
      "text/plain": [
       "({0: \"mean:0.24018795767522422params{'max_depth': 24}\",\n",
       "  1: \"mean:0.23843357171031193params{'max_depth': 25}\",\n",
       "  2: \"mean:0.24311193428341138params{'max_depth': 26}\"},\n",
       " {'best_mean': 0.24311193428341138, 'best_param': {'max_depth': 26}})"
      ]
     },
     "execution_count": 14,
     "metadata": {},
     "output_type": "execute_result"
    }
   ],
   "source": [
    "getTrainScores(gsearch6)"
   ]
  },
  {
   "cell_type": "code",
   "execution_count": 15,
   "metadata": {},
   "outputs": [],
   "source": [
    "final_clf = gsearch6.best_estimator_"
   ]
  },
  {
   "cell_type": "code",
   "execution_count": 17,
   "metadata": {
    "scrolled": true
   },
   "outputs": [
    {
     "name": "stderr",
     "output_type": "stream",
     "text": [
      "<ipython-input-17-cd8a5e202ee7>:1: DataConversionWarning: A column-vector y was passed when a 1d array was expected. Please change the shape of y to (n_samples,), for example using ravel().\n",
      "  final_clf.fit(X_train, y_train)\n",
      "[Parallel(n_jobs=-1)]: Using backend ThreadingBackend with 4 concurrent workers.\n",
      "[Parallel(n_jobs=-1)]: Done  42 tasks      | elapsed:    0.2s\n",
      "[Parallel(n_jobs=-1)]: Done 192 tasks      | elapsed:    1.0s\n",
      "[Parallel(n_jobs=-1)]: Done 200 out of 200 | elapsed:    1.0s finished\n",
      "[Parallel(n_jobs=4)]: Using backend ThreadingBackend with 4 concurrent workers.\n",
      "[Parallel(n_jobs=4)]: Done  42 tasks      | elapsed:    0.0s\n",
      "[Parallel(n_jobs=4)]: Done 192 tasks      | elapsed:    0.1s\n",
      "[Parallel(n_jobs=4)]: Done 200 out of 200 | elapsed:    0.1s finished\n",
      "[Parallel(n_jobs=4)]: Using backend ThreadingBackend with 4 concurrent workers.\n",
      "[Parallel(n_jobs=4)]: Done  42 tasks      | elapsed:    0.0s\n"
     ]
    },
    {
     "name": "stdout",
     "output_type": "stream",
     "text": [
      "Train Accuracy:0.309900410076157\n",
      "Train F1-Score(Micro):0.309900410076157\n",
      "------\n",
      "Test Accuracy:0.22404371584699453\n",
      "Test F1-Score(Micro):0.22404371584699453\n"
     ]
    },
    {
     "name": "stderr",
     "output_type": "stream",
     "text": [
      "[Parallel(n_jobs=4)]: Done 192 tasks      | elapsed:    0.1s\n",
      "[Parallel(n_jobs=4)]: Done 200 out of 200 | elapsed:    0.1s finished\n"
     ]
    }
   ],
   "source": [
    "final_clf.fit(X_train, y_train)\n",
    "predicted_labels = final_clf.predict(X_test)\n",
    "train_pred = final_clf.predict(X_train)\n",
    "\n",
    "print('Train Accuracy:' + str(accuracy_score(y_train, train_pred)))\n",
    "print('Train F1-Score(Micro):' + str(f1_score(y_train, train_pred, average= 'micro')))\n",
    "print('------')\n",
    "print('Test Accuracy:'+str(accuracy_score(y_test, predicted_labels)))\n",
    "print('Test F1-Score(Micro):'+str(f1_score(y_test, predicted_labels,average= 'micro')))"
   ]
  },
  {
   "cell_type": "code",
   "execution_count": 7,
   "metadata": {},
   "outputs": [
    {
     "data": {
      "image/png": "[encoded data removed]",
      "text/plain": [
       "<Figure size 504x432 with 2 Axes>"
      ]
     },
     "metadata": {
      "needs_background": "light"
     },
     "output_type": "display_data"
    }
   ],
   "source": [
    "cm = confusion_matrix(y_test, predicted_labels)\n",
    "\n",
    "def plot_confusion_matrix(cm, normalized=True, cmap='bone'):\n",
    "    plt.figure(figsize=[7, 6])\n",
    "    norm_cm = cm\n",
    "    if normalized:\n",
    "        norm_cm = cm.astype('float') / cm.sum(axis=1)[:, np.newaxis]\n",
    "        sns.heatmap(norm_cm, annot=cm, fmt='g')\n",
    "\n",
    "plot_confusion_matrix(cm)"
   ]
  },
  {
   "cell_type": "code",
   "execution_count": null,
   "metadata": {},
   "outputs": [],
   "source": [
    "from sklearn.metrics import cohen_kappa_score\n",
    "\n",
    "print( \"kappa score:  \", cohen_kappa_score(y_test, predictions))"
   ]
  },
  {
   "cell_type": "code",
   "execution_count": null,
   "metadata": {},
   "outputs": [],
   "source": []
  }
 ],
 "metadata": {
  "kernelspec": {
   "display_name": "Python 3",
   "language": "python",
   "name": "python3"
  },
  "language_info": {
   "codemirror_mode": {
    "name": "ipython",
    "version": 3
   },
   "file_extension": ".py",
   "mimetype": "text/x-python",
   "name": "python",
   "nbconvert_exporter": "python",
   "pygments_lexer": "ipython3",
   "version": "3.8.3"
  }
 },
 "nbformat": 4,
 "nbformat_minor": 4
}
